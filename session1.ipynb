{
  "nbformat": 4,
  "nbformat_minor": 0,
  "metadata": {
    "colab": {
      "name": "session1.ipynb",
      "provenance": [],
      "collapsed_sections": [],
      "include_colab_link": true
    },
    "kernelspec": {
      "name": "python3",
      "display_name": "Python 3"
    }
  },
  "cells": [
    {
      "cell_type": "markdown",
      "metadata": {
        "id": "view-in-github",
        "colab_type": "text"
      },
      "source": [
        "<a href=\"https://colab.research.google.com/github/vmtang11/ids705_ml_ta/blob/main/session1.ipynb\" target=\"_parent\"><img src=\"https://colab.research.google.com/assets/colab-badge.svg\" alt=\"Open In Colab\"/></a>"
      ]
    },
    {
      "cell_type": "markdown",
      "metadata": {
        "id": "mmL2OBqtS9hA"
      },
      "source": [
        "# IDS705 Machine Learning: Session 1\n",
        "\n",
        "## Agenda\n",
        "\n",
        "### Environments\n",
        "- Local\n",
        "- Duke Containers\n",
        "- Google Colab\n",
        "\n",
        "### Jupyter basics\n",
        "- Keyboard shortcuts\n",
        "- When to use markdown vs. commented code vs print statements\n",
        "- Markdown basics: headers, bold/italics, lists\n",
        "- Resources:\n",
        "  - Kyle’s youtube video: https://www.youtube.com/watch?v=IMdfXGHzz5g\n",
        "  - Cheatsheet: https://www.edureka.co/blog/wp-content/uploads/2018/10/Jupyter_Notebook_CheatSheet_Edureka.pdf\n",
        "\n",
        "### Latex\n",
        "- Inserting equations\n",
        "- Fractions\n",
        "- Subscript and superscript\n",
        "- Greek letters\n",
        "- Integrals and sums\n",
        "- Matrix\n",
        "- Resources: https://www.math.ubc.ca/~pwalls/math-python/jupyter/latex/ \n",
        "\n",
        "### Submission tips\n",
        "- Make a copy before starting\n",
        "- Run all code from the top before submission\n",
        "- Do not wait till last min to export to PDF\n",
        "- Look at pdf before submission\n",
        "\n",
        "***\n",
        "\n",
        "\n"
      ]
    },
    {
      "cell_type": "markdown",
      "metadata": {
        "id": "n9j0AIZ92ef0"
      },
      "source": [
        "# Environments for Jupyter\n"
      ]
    },
    {
      "cell_type": "markdown",
      "metadata": {
        "id": "gOViFyIb2kPp"
      },
      "source": [
        "## Local: Jupyter Notebook\n",
        "- run `jupyter notebook` in terminal\n",
        "\n",
        "__Pro__: easy to access; directly linked with local file systems\n",
        "\n",
        "__Con__: may not have GPU\n",
        "\n",
        "__Best For__: most of the individual assignments\n",
        "\n",
        "## Duke Containers: Jupyter Lab\n",
        "- https://vm-manage.oit.duke.edu/containers\n",
        "- GPUscavanger\n",
        "\n",
        "__Pro__: attached semi-permanent storage (reserved for whole semester); have decent GPU; insolated environment\n",
        "\n",
        "__Con__: use upload/download to transfer files, or setup github; shared GPU resources\n",
        "\n",
        "__Best For__: standalone environment for all IDS705 related work\n",
        "\n",
        "## Google Colab: Jupyter Notebook\n",
        "\n",
        "__Pro__: good GPU, even better with Pro account; able to share notebooks\n",
        "\n",
        "__Con__: temporary storage; able to link with Google Drive as permanent storage, or clone github repo everytime; no bash terminal\n",
        "\n",
        "__Best For__: team project that involves everyone working collboratively on same notebook"
      ]
    },
    {
      "cell_type": "markdown",
      "metadata": {
        "id": "6DnHx3eWHrK9"
      },
      "source": [
        "## GitHub Repos\n",
        "- __sp2021__: https://github.com/kylebradbury/ids705\n",
        "- __sp2020__: https://github.com/kylebradbury/ids705_sp2020\n",
        "\n",
        "git clone commands: <br>\n",
        "`git clone https://github.com/kylebradbury/ids705.git` <br>\n",
        "`git clone https://github.com/kylebradbury/ids705_sp2020.git`\n"
      ]
    },
    {
      "cell_type": "markdown",
      "metadata": {
        "id": "Tn4W6AjuT6xj"
      },
      "source": [
        "# Jupyter Basics\n",
        "\n"
      ]
    },
    {
      "cell_type": "markdown",
      "metadata": {
        "id": "UxQgCyI8ipYp"
      },
      "source": [
        "## Keyboard Shortcuts\n",
        "- __Esc + a__: insert cell above\n",
        "- __Esc + b__: insert cell below \n",
        "- __Esc + dd__: delete cell (does not work on Colab)\n",
        "- __Esc + m__: change to markdown cell\n",
        "- __Ctrl + ]__: indent\n",
        "- __Ctrl + [__: dedent\n",
        "\n",
        "- __Enter__: enter edit mode\n",
        "- __Shift + Enter__: run cell, select below\n",
        "\n",
        "Check python function documentation:\n",
        "- __Shift + Tab__ within brackets (Jupyter notebook on local or remote)\n",
        "- __Place cursor__ within brackets (Colab)"
      ]
    },
    {
      "cell_type": "markdown",
      "metadata": {
        "id": "IyDcC4fKex9D"
      },
      "source": [
        "## Markdown vs. Commented Code vs. Print Statements\n",
        "- __Markdown__: explanations, answers to questions, etc.\n",
        "- __Commented code__: keeping track of what you're doing when you write code, helps us know also\n",
        "- __Print statements__: incorporate variable values in written answer."
      ]
    },
    {
      "cell_type": "code",
      "metadata": {
        "id": "elcuMgwBe2Cu"
      },
      "source": [
        "# For example, we don't want to have to find your answers to questions in commented code like this. \n",
        "# It is difficult to find when you have lots of code.\n",
        "\n",
        "# But if you're explaining something like...\n",
        "\n",
        "# import necessary packages\n",
        "import pandas as pd\n",
        "\n",
        "# then that's ok! This can help tell us what you're doing."
      ],
      "execution_count": null,
      "outputs": []
    },
    {
      "cell_type": "markdown",
      "metadata": {
        "id": "_LBm8f47rhSc"
      },
      "source": [
        "- __Printing__: Sometimes, you may have numerical values that are complex or change every time you run the code. You do not want to be copying and pasting into markdown block each time. Or even worse when you forgot to change them. In this case, it's often best to `print` your answer."
      ]
    },
    {
      "cell_type": "code",
      "metadata": {
        "colab": {
          "base_uri": "https://localhost:8080/"
        },
        "id": "Rzpt_R_xvngB",
        "outputId": "7e882d20-4095-451f-d325-15e8cdb0b92b"
      },
      "source": [
        "ans = 60 * 60 * 24\n",
        "print(\"There are {} seconds in a day.\".format(ans))"
      ],
      "execution_count": null,
      "outputs": [
        {
          "output_type": "stream",
          "text": [
            "There are 86400 seconds in a day.\n"
          ],
          "name": "stdout"
        }
      ]
    },
    {
      "cell_type": "markdown",
      "metadata": {
        "id": "DuT7figPevWj"
      },
      "source": [
        "## Markdown basics\n",
        "\n",
        "- __Headers__: Use `#` to create headers. The number of hashtags changes the size of your header. (Click into the cell to see the formatting)\n",
        "\n",
        "Example:\n",
        "# Header 1: Title\n",
        "## Header 2: Subtitle\n",
        "### Header 3: Sub-subtitle"
      ]
    },
    {
      "cell_type": "markdown",
      "metadata": {
        "id": "JpNTEU-xfX-e"
      },
      "source": [
        "- __Emphasizing stuff__: If you want to __bold__ or _italicize_ text, you can do so by wrapping the text in `__` or `**` for bold and `_` or `*` for italics. \n",
        "\n",
        "This is helpful when you're explaining answers and need to show that you actually answered a specific part of the question. \n",
        "\n",
        "Example: The AUC was __0.89__."
      ]
    },
    {
      "cell_type": "markdown",
      "metadata": {
        "id": "2oPXNuu2giiO"
      },
      "source": [
        "- __Lists__: You can create unordered (bulleted) lists using `-` or ordered (numbered) lists with `1.`, `2.`, etc.\n",
        "\n",
        "Example: <br>\n",
        "Models tested:\n",
        "- linear regression\n",
        "- k-nearest neighbors\n",
        "- random forest\n",
        "\n",
        "Insights:\n",
        "1. blah\n",
        "2. blah blah\n",
        "3. blah blah blah"
      ]
    },
    {
      "cell_type": "markdown",
      "metadata": {
        "id": "MfypeOXWiP72"
      },
      "source": [
        "# Latex"
      ]
    },
    {
      "cell_type": "markdown",
      "metadata": {
        "id": "f9HAwS3U-GCO"
      },
      "source": [
        "- __Inserting equations__\n",
        "\n",
        "**In line** <br>\n",
        "You can insert equations in line by wrapping equations in single dollar signs: `$`. <br>\n",
        "Example: The distribution $f(x)$ blah blah.\n",
        "\n",
        "**New line** <br>\n",
        "If you want your equation(s) to show up on their own line, you can wrap it in double dollar signs: `$$`. <br>\n",
        "Example: The distribution $$f(x)$$ blah blah.\n",
        "\n",
        "**Longer Equations**\n",
        "For longer equations, such as when there are multiple parts or you need to show work in the format of several equations, it can be helpful to use this format:\n",
        "\n",
        "```\n",
        "\\begin{equation}\n",
        "\\end{equation}\n",
        "```\n",
        "\n",
        "Example:\n",
        "\\begin{equation}\n",
        "\\begin{split}\n",
        "a & = b + c \\\\\n",
        "d & = e + f + g\n",
        "\\end{split}\n",
        "\\end{equation}\n",
        "\n",
        "Formatting:\n",
        "- Use `&` before each equal sign to align them. This makes it easier for us to read. Use with `begin{split}` and `end{split}`\n",
        "- Use `\\\\` to enter a new line within the equation formatting. "
      ]
    },
    {
      "cell_type": "markdown",
      "metadata": {
        "id": "alAxXLN2Bbqi"
      },
      "source": [
        "- **Fractions**: `\\frac{numerator}{denominator}` <br>\n",
        "Example: $\\frac{1}{3}$\n",
        "\n",
        "- **Brackets around fractions**: `\\left(...\\right)` or `\\left[...\\right]`. This can also be used around intergrals or summations. <br>\n",
        "Example: $\\left(\\frac{1}{3}\\right)$\n",
        "\n",
        "- **Subscript**: `_` <br>\n",
        "Example: $x_1$\n",
        "\n",
        "- **Superscript**: `^` <br>\n",
        "Example: $x^2$\n",
        "\n",
        "- **Greek letters**: Use backslash `\\` followed by the name of the letter `alpha`. Generally, capitalizing the first letter of the name of the letter will render the capitalized Greek letter. <br>\n",
        "Examples: <br>\n",
        "Lowercase alpha: $\\alpha$ <br>\n",
        "Uppercase sigma: $\\Sigma$\n",
        "\n",
        "- **Infinity**: `\\infty` <br>\n",
        "Example: $\\infty$ or -$\\infty$\n",
        "\n",
        "- **Integrals**: `\\int`. To add limits `\\int_lower^upper` <br>\n",
        "Example: $\\int$ or $\\int_a^b$\n",
        "\n",
        "- **Sums**: `\\sum`. To add limits `\\sum_{lower}^{upper}` <br>\n",
        "Example: $\\sum$ or $\\sum_{n=0}^{\\infty}$\n",
        "\n",
        "- **Matrices**: `matrix` for no brackets, `pmatrix` for round brackets `()`, `bmatrix` for square brackets `[]`\n",
        "\n",
        "```\n",
        "No Brackets\n",
        "\\begin{matrix} \n",
        "\\end{matrix}\n",
        "\n",
        "Round Brackets\n",
        "\\begin{pmatrix} \n",
        "\\end{pmatrix}\n",
        "\n",
        "Square Brackets\n",
        "\\begin{bmatrix} \n",
        "\\end{bmatrix}\n",
        "```\n",
        "\n",
        "Example: <br>\n",
        "No brackets: $\\begin{matrix} a & b \\\\ c & d \\end{matrix}$ <br> <br>\n",
        "Round brackets: $\\begin{pmatrix} a & b \\\\ c & d \\end{pmatrix}$ <br> <br>\n",
        "Square brackets: $\\begin{bmatrix} a & b \\\\ c & d \\end{bmatrix}$"
      ]
    },
    {
      "cell_type": "markdown",
      "metadata": {
        "id": "x8dqjoHKFZhw"
      },
      "source": [
        "## Latex Tips\n",
        "- Work in sections. It is easier to get smaller parts to render properly. When working with larger equations, it is difficult to know which part is causing an error. Split it up into smaller parts, make sure they each render properly, then piece them together. \n",
        "- Do fractions separately then paste into the larger equation.\n",
        "- Work one line at a time.\n",
        "- If you don't know how to write something in Latex, there are a lot of resources on Google.\n",
        "\n",
        "Example: <br>\n",
        "\\begin{equation}\n",
        "\\int_0^{10} \\frac{x^2 + 5}{\\alpha_1 - 10} - x^2\n",
        "\\end{equation}\n",
        "\n",
        "**Part 1:** Fraction <br>\n",
        "$\\frac{x^2 + 5}{\\alpha_1 - 10}$ <br> \n",
        "<br>\n",
        "**Part 2:** Integral <br>\n",
        "$\\int_0^{10}$ <br>\n",
        "<br>\n",
        "**Part 3:** Put it together <br>\n",
        "$\\int_0^{10} \\frac{x^2 + 5}{\\alpha_1 - 10} - x^2$"
      ]
    },
    {
      "cell_type": "markdown",
      "metadata": {
        "id": "qziUMUd0hNWX"
      },
      "source": [
        "# Submission Tips\n",
        "\n",
        "- __MAKE A COPY BEFORE STARTING__. In case you mess up and need to refer to the original copy. This is also avoids file name conflict with the question copy, and prevents git from overwritting your answers.\n",
        "- __RUN ALL CODE FROM THE TOP__. It helps us make sure that your code is properly working and isn't based on a cell you've deleted. You can do this by resetting the kernel and running all cells.\n",
        "- __DO NOT WAIT TILL LAST MIN TO EXPORT TO PDF__. Latex errors may not always show up in Jupyter, but can cause pdf export to fail. Make sure you leave sufficient time before submission to debug.\n",
        "- __LOOK AT YOUR PDF__. If you can't read it, we can't either. Make sure all text and code appears fully and graphs are not cut off. \n",
        "\n",
        "***"
      ]
    }
  ]
}