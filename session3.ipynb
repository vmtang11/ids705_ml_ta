{
  "nbformat": 4,
  "nbformat_minor": 0,
  "metadata": {
    "colab": {
      "name": "session3.ipynb",
      "provenance": [],
      "collapsed_sections": [],
      "include_colab_link": true
    },
    "kernelspec": {
      "name": "python3",
      "display_name": "Python 3"
    }
  },
  "cells": [
    {
      "cell_type": "markdown",
      "metadata": {
        "id": "view-in-github",
        "colab_type": "text"
      },
      "source": [
        "<a href=\"https://colab.research.google.com/github/vmtang11/ids705_ml_ta/blob/main/session3.ipynb\" target=\"_parent\"><img src=\"https://colab.research.google.com/assets/colab-badge.svg\" alt=\"Open In Colab\"/></a>"
      ]
    },
    {
      "cell_type": "markdown",
      "metadata": {
        "id": "m3cYO-TKQ6fO"
      },
      "source": [
        "# IDS705 Machine Learning: Session 3\n",
        "\n",
        "## Agenda\n",
        "\n",
        "- Introduction to OOP and Classes\n",
        "- Scikit-Learn Documentation\n",
        "- Making Good Looking Plots: [Kyle's Guide](https://kylebradbury.github.io/blog/tutorial/2020/06/21/pretty-plots.html)\n",
        "- Plotting: Subplots, Contour, Functionalizing\n"
      ]
    },
    {
      "cell_type": "markdown",
      "metadata": {
        "id": "43PIHEVWT9G3"
      },
      "source": [
        "## Introduction to OOP and Classes\n",
        "\n",
        "### What are Classes?\n",
        "- *Classes* are **objects**, and *methods* within the class are **actions** to be done on the object\n",
        "- Classes can have **variables** saved within it, often refered to as *attributes*"
      ]
    },
    {
      "cell_type": "code",
      "metadata": {
        "id": "pSOKXJzj8vQj"
      },
      "source": [
        "# Pseudo-code example: (cannot execute, for illustration purposes only)\n",
        "# class: Bird() --> object (Naming convention: Capitalize first letter)\n",
        "# method: .fly() --> action to be done on object (Naming convention: lower case, separate with _ if more than 1 word)\n",
        "# attribute: .name --> variables within the object (Naming convention: lower case)\n",
        "\n",
        "# Initialize the class: make an instance of the class object\n",
        "mybird = Bird() #--> make a bird, and call it mybird\n",
        "# Calling the method on class: perform an action on an instance of the class object\n",
        "mybird.fly() #--> fly \"mybird\", not any other bird\n",
        "# Retrieving the attribute of the class\n",
        "mybird.name #--> get the name of \"mybird\""
      ],
      "execution_count": null,
      "outputs": []
    },
    {
      "cell_type": "markdown",
      "metadata": {
        "id": "c-GUYu918u_F"
      },
      "source": [
        "Note:\n",
        "- Classes and methods are called **with** brackets\n",
        "  - These can be thought of as functions that can take in parameters when applicable\n",
        "- Attributes are accessed **without** brackets\n",
        "  - These are values of any data types"
      ]
    },
    {
      "cell_type": "markdown",
      "metadata": {
        "id": "wBYu2dKY8z9P"
      },
      "source": [
        "### Object-Oriented Design Foundations\n",
        "- **Encapsulation**: Data & code that acts on it are put together\n",
        "  - e.g. calling a `.fly()` method on a `Bird` object\n",
        "  - Contrast with defining a function, where data or parameters have to be passed to the function\n",
        "  - Protects the data of the object from being accessed/changed by other objects\n",
        "- **Inheritance**: Passing on variables and methods from **parent** to **child**\n",
        "  - e.g. a `Pigeon` class that inherits from `Bird` class\n",
        "  - All variables and methods from `Bird` class are passed on to `Pigeon` class\n",
        "  - Useful when there are multiple subclass or child class sharing same variables and methods --> avoid code duplication\n",
        "- **Polymorhism**: Reuse the same code for different data types\n",
        "- **Abstraction**: Separation of interface from implementation\n",
        "\n",
        "- Resource: https://medium.com/better-programming/python-for-beginners-object-oriented-programming-3b231bb3dd49\n"
      ]
    },
    {
      "cell_type": "code",
      "metadata": {
        "id": "sDKBJkOa82rI"
      },
      "source": [
        "# (a) Write your own kNN classifier\n",
        "\n",
        "class Knn:\n",
        "# k-Nearest Neighbor class object for classification training and testing\n",
        "    def __init__(self):\n",
        "        \n",
        "    def fit(self, x, y):\n",
        "        # Save the training data to properties of this class\n",
        "        \n",
        "    def predict(self, x, k):\n",
        "        y_hat = [] # Variable to store the estimated class label for \n",
        "        # Calculate the distance from each vector in x to the training data\n",
        "        \n",
        "        # Return the estimated targets\n",
        "        return y_hat\n",
        "\n",
        "# Metric of overall classification accuracy\n",
        "#  (a more general function, sklearn.metrics.accuracy_score, is also available)\n",
        "def accuracy(y,y_hat):\n",
        "    nvalues = len(y)\n",
        "    accuracy = sum(y == y_hat) / nvalues\n",
        "    return accuracy"
      ],
      "execution_count": null,
      "outputs": []
    },
    {
      "cell_type": "markdown",
      "metadata": {
        "id": "x8etosZk83nG"
      },
      "source": [
        "Note:\n",
        "- `Knn` is the object, and `__init__`, `fit` and `predict` are actions/methods to be done on the object\n",
        "- Methods within the class can be **public** or **private**:\n",
        "  - **public** methods can be accessed from outside of the class, i.e. can call `Knn.fit()`\n",
        "  - **private** methods have double underscore prefix, can only be accessed from within the class, i.e. cannot call `Knn.__init__()`\n",
        "- Every class will have an `__init__()` method to initialize the class object\n",
        "  - Think of this as creating an instance of the object, like creating `myknn` from `Knn` class\n",
        "  - If the class has variables/attributes, this is where their values should be initialized, like setting `x_train` to some initial values (0 or empty arrays)\n",
        "  - Saving variables to the class has the advantage of allowing other methods within the class to access them without having to pass them as variables"
      ]
    },
    {
      "cell_type": "markdown",
      "metadata": {
        "id": "6YLQ4cSF88B6"
      },
      "source": [
        "### What is Self?\n",
        "Recall that methods within the class are like functions, `self` is the default parameter to pass to all methods within the class, which refers to the class itself. What this means is we are passing the class itself as **data** to all its methods, so that they can act on any its content --> think about **encapsulation**\n",
        "- Any of the class's attributes or methods can be access from within any methods in the class, but `self.` prefix need to be added.\n",
        "- Contrast this with writing a function, where only parameters passed to the function can be access from within the class, not anything else from other functions."
      ]
    },
    {
      "cell_type": "markdown",
      "metadata": {
        "id": "hN-GNg1n8_Xl"
      },
      "source": [
        "### Sklearn Documentation Walkthrough\n",
        "\n",
        "https://scikit-learn.org/stable/modules/generated/sklearn.linear_model.LinearRegression.html#sklearn.linear_model.LinearRegression\n"
      ]
    },
    {
      "cell_type": "markdown",
      "metadata": {
        "id": "p5QDnEw9UGI0"
      },
      "source": [
        "## Making Good Looking Plots\n",
        "\n",
        "[Kyle's Guide](https://kylebradbury.github.io/blog/tutorial/2020/06/21/pretty-plots.html)\n",
        "\n",
        "Common plotting packages:\n",
        "- matplotlib\n",
        "- seaborn\n",
        "- plotnine\n",
        "- plotly\n",
        "\n",
        "Things you **MUST** do:\n",
        "- Label axes\n",
        "- Title plot\n",
        "- Add legend (if applicable)\n",
        "- Ensure figure is big enough to see\n",
        "- Ensure font is large enough to be read\n"
      ]
    },
    {
      "cell_type": "markdown",
      "metadata": {
        "id": "5N-1HZIkVOR8"
      },
      "source": [
        "### Example of a BAD Plot"
      ]
    },
    {
      "cell_type": "code",
      "metadata": {
        "colab": {
          "base_uri": "https://localhost:8080/",
          "height": 228
        },
        "id": "e3IHwH_BQfGE",
        "outputId": "fd2a2505-e712-416b-9e8e-2ca6f1a76208"
      },
      "source": [
        "import numpy as np\n",
        "import matplotlib.pyplot as plt\n",
        "\n",
        "f = np.random.normal(4, 1, 100)\n",
        "m = np.random.normal(7, 1, 100)\n",
        "\n",
        "plt.figure(figsize = (3,3))\n",
        "plt.hist(f, bins = 30)\n",
        "plt.hist(m, bins = 30)\n",
        "plt.show"
      ],
      "execution_count": 98,
      "outputs": [
        {
          "output_type": "execute_result",
          "data": {
            "text/plain": [
              "<function matplotlib.pyplot.show>"
            ]
          },
          "metadata": {
            "tags": []
          },
          "execution_count": 98
        },
        {
          "output_type": "display_data",
          "data": {
            "image/png": "[encoded data removed]",
            "text/plain": [
              "<Figure size 216x216 with 1 Axes>"
            ]
          },
          "metadata": {
            "tags": [],
            "needs_background": "light"
          }
        }
      ]
    },
    {
      "cell_type": "markdown",
      "metadata": {
        "id": "fKhVW7xIVULw"
      },
      "source": [
        "##### Why is this bad?\n",
        "- No axes labels \n",
        "- No title\n",
        "- Too small\n",
        "- No legend\n",
        "- Overlapping distributions"
      ]
    },
    {
      "cell_type": "markdown",
      "metadata": {
        "id": "lgLxHXxDVkDH"
      },
      "source": [
        "### Making it Better\n",
        "\n",
        "- No axes labels: `plt.xlabel()` and `plt.ylabel()`\n",
        "- No title: `plt.title()`\n",
        "- Too small: `plt.figure(figsize = (w, h))`\n",
        "- No legend: `plt.legend()`\n",
        "- Overlapping distributions: changle `alpha` parameter in `plt.hist`\n",
        "- Changing colors: [color options](https://matplotlib.org/3.1.0/gallery/color/named_colors.html)"
      ]
    },
    {
      "cell_type": "code",
      "metadata": {
        "colab": {
          "base_uri": "https://localhost:8080/",
          "height": 540
        },
        "id": "0-rV_-8dU_YY",
        "outputId": "a3fa5cf9-b727-40fc-dc2c-d35d310a5fe7"
      },
      "source": [
        "plt.figure(figsize = (10, 8))\n",
        "plt.hist(f, bins = 20, color = 'crimson', alpha = .7)\n",
        "plt.hist(m, bins = 20, color = 'royalblue', alpha = .7)\n",
        "plt.xlabel('Height (ft)', fontsize = 15)\n",
        "plt.ylabel('Frequency', fontsize = 15)\n",
        "plt.title('Distribution of Height (ft)', fontsize = 20)\n",
        "plt.legend(labels = ('female', 'male'), loc = 'upper right')\n",
        "plt.show"
      ],
      "execution_count": 99,
      "outputs": [
        {
          "output_type": "execute_result",
          "data": {
            "text/plain": [
              "<function matplotlib.pyplot.show>"
            ]
          },
          "metadata": {
            "tags": []
          },
          "execution_count": 99
        },
        {
          "output_type": "display_data",
          "data": {
            "image/png": "[encoded data removed]",
            "text/plain": [
              "<Figure size 720x576 with 1 Axes>"
            ]
          },
          "metadata": {
            "tags": [],
            "needs_background": "light"
          }
        }
      ]
    },
    {
      "cell_type": "markdown",
      "metadata": {
        "id": "mOZVL9wLimat"
      },
      "source": [
        "### More Plotting\n",
        "\n",
        "- Functionalizing\n",
        "- Subplots\n",
        "- Contour"
      ]
    },
    {
      "cell_type": "markdown",
      "metadata": {
        "id": "MDSgqDemtd0u"
      },
      "source": [
        "## Functionalizing\n",
        "\n",
        "If you find yourself plotting the same thing several times, then it means that you could likely benefit from writing a function to plot. \n"
      ]
    },
    {
      "cell_type": "code",
      "metadata": {
        "id": "6RMIo7SnV1i6",
        "colab": {
          "base_uri": "https://localhost:8080/",
          "height": 593
        },
        "outputId": "778c6f21-8b73-46dc-cd1d-652784fa6873"
      },
      "source": [
        "def plot(plot_title):\n",
        "  '''\n",
        "  A function to plot.\n",
        "  '''\n",
        "  plt.figure(figsize = (5,4))\n",
        "  plt.hist(f, bins = 20, color = 'crimson', alpha = .7)\n",
        "  plt.hist(m, bins = 20, color = 'royalblue', alpha = .7)\n",
        "  plt.xlabel('Height (ft)', fontsize = 15)\n",
        "  plt.ylabel('Frequency', fontsize = 15)\n",
        "  plt.title(plot_title, fontsize = 20)\n",
        "  plt.legend(labels = ('female', 'male'), loc = 'upper right')\n",
        "\n",
        "plot('Plot 1')\n",
        "plot('Plot 2')"
      ],
      "execution_count": 100,
      "outputs": [
        {
          "output_type": "display_data",
          "data": {
            "image/png": "[encoded data removed]",
            "text/plain": [
              "<Figure size 360x288 with 1 Axes>"
            ]
          },
          "metadata": {
            "tags": [],
            "needs_background": "light"
          }
        },
        {
          "output_type": "display_data",
          "data": {
            "image/png": "[encoded data removed]",
            "text/plain": [
              "<Figure size 360x288 with 1 Axes>"
            ]
          },
          "metadata": {
            "tags": [],
            "needs_background": "light"
          }
        }
      ]
    },
    {
      "cell_type": "markdown",
      "metadata": {
        "id": "2s9oc4mOG-tl"
      },
      "source": [
        "In this example, the function just helps us change the plot title, but you can write your function to fit your needs... such as changing values of k for knn."
      ]
    },
    {
      "cell_type": "markdown",
      "metadata": {
        "id": "FCuTMvIkt5Cw"
      },
      "source": [
        "## Subplots\n",
        "\n",
        "Now, sometimes we don't want our plots to just show up one after another. Maybe we want them in a nice grid. To do that, we can take advantage of our function for plotting and use subplots. \n",
        "\n",
        "### Updating our Function for Subplots\n",
        "\n",
        "Subplots are defined by axes. So if we want a 2x2 grid, our axes are (0,0), (0,1), (1,0), and (1,1). This determines where in the grid to plot. We can now update our previous function to take in that information. \n",
        "\n",
        "When using sublots, there are a few changes in plotting:\n",
        "\n",
        "*   axes: When creating the grid, plot locations are defined by axes. When you plot, you need to tell it where to plot.\n",
        "*   axis titles: instead of `plt.xlabel`, use `ax.set_xlabel`\n",
        "*   individual plot title: instead of `plt.title`, use `ax.set_title`\n",
        "*   grid title: `ax.suptitle`\n",
        "*   Note that we don't need to tell it the individual figure size since all plots in a grid will be the same size and determined by the grid size\n",
        "\n"
      ]
    },
    {
      "cell_type": "code",
      "metadata": {
        "id": "4eInXwthulvH"
      },
      "source": [
        "def plot(plot_title, ax):\n",
        "  # ax.figure(figsize = (5,4))\n",
        "  ax.hist(f, bins = 20, color = 'crimson', alpha = .7)\n",
        "  ax.hist(m, bins = 20, color = 'royalblue', alpha = .7)\n",
        "  ax.set_xlabel('Height (ft)', fontsize = 15)\n",
        "  ax.set_ylabel('Frequency', fontsize = 15)\n",
        "  ax.set_title(plot_title, fontsize = 20)\n",
        "  ax.legend(labels = ('female', 'male'), loc = 'upper right', fontsize = 12)"
      ],
      "execution_count": 103,
      "outputs": []
    },
    {
      "cell_type": "markdown",
      "metadata": {
        "id": "EuuuWEtEwaV0"
      },
      "source": [
        "### Example 1: 2 Plots Side-by-Side\n",
        "\n",
        "Note the grid indexing here."
      ]
    },
    {
      "cell_type": "code",
      "metadata": {
        "colab": {
          "base_uri": "https://localhost:8080/",
          "height": 414
        },
        "id": "VTPN2eZLt0El",
        "outputId": "e8006a51-c450-4383-8226-df3076fdbb0d"
      },
      "source": [
        "fig, axs = plt.subplots(1, 2, figsize = (15, 6))\n",
        "plot('Plot 1', axs[0])\n",
        "plot('Plot 2', axs[1])"
      ],
      "execution_count": 104,
      "outputs": [
        {
          "output_type": "display_data",
          "data": {
            "image/png": "[encoded data removed]",
            "text/plain": [
              "<Figure size 1080x432 with 2 Axes>"
            ]
          },
          "metadata": {
            "tags": [],
            "needs_background": "light"
          }
        }
      ]
    },
    {
      "cell_type": "markdown",
      "metadata": {
        "id": "alGJV9wywhKS"
      },
      "source": [
        "### Example 2: A 2-by-2 Grid\n",
        "\n",
        "Note the grid indexing here.\n"
      ]
    },
    {
      "cell_type": "code",
      "metadata": {
        "colab": {
          "base_uri": "https://localhost:8080/",
          "height": 795
        },
        "id": "0eQhwMVAu0tH",
        "outputId": "6a2ad2d2-7b82-4470-cc1e-f79582eefdad"
      },
      "source": [
        "fig, axs = plt.subplots(2, 2, figsize = (15,13))\n",
        "plot('Plot 1', axs[0, 0])\n",
        "plot('Plot 2', axs[0, 1])\n",
        "plot('Plot 3', axs[1, 0])\n",
        "plot('Plot 4', axs[1, 1])"
      ],
      "execution_count": 107,
      "outputs": [
        {
          "output_type": "display_data",
          "data": {
            "image/png": "[encoded data removed]",
            "text/plain": [
              "<Figure size 1080x936 with 4 Axes>"
            ]
          },
          "metadata": {
            "tags": [],
            "needs_background": "light"
          }
        }
      ]
    },
    {
      "cell_type": "markdown",
      "metadata": {
        "id": "qaHpLnT7w4fk"
      },
      "source": [
        "## Contour\n",
        "\n",
        "Contour is used to highlight different areas within your plot, like a decision boundary. The [`contourf` documentation](https://matplotlib.org/3.3.3/api/_as_gen/matplotlib.pyplot.contourf.html) is helpful in understanding what `contourf` does and the types of variables that it takes in. Most importantly, it takes in x and y coordinate values, which means that you'll need to use it with `np.meshgrid`. It also takes in `z`, which essentially represents the different colors or areas of the plot."
      ]
    },
    {
      "cell_type": "markdown",
      "metadata": {
        "id": "fLO27HP3JoxW"
      },
      "source": [
        "### Creating Data and Fitting Classifier"
      ]
    },
    {
      "cell_type": "code",
      "metadata": {
        "id": "1Q6Da2qAwwv8"
      },
      "source": [
        "from sklearn.datasets import make_classification\n",
        "from sklearn.linear_model import LogisticRegression\n",
        "\n",
        "# creating data\n",
        "X, y = make_classification(200, 2, 2, 0, weights = [.5, .5], random_state = 15)\n",
        "\n",
        "# fitting logistic regression \n",
        "clf = LogisticRegression().fit(X[:100], y[:100])"
      ],
      "execution_count": 122,
      "outputs": []
    },
    {
      "cell_type": "markdown",
      "metadata": {
        "id": "kY1jJaoVJty_"
      },
      "source": [
        "#### Meshgrid\n",
        "\n",
        "- [Documentation](https://numpy.org/doc/stable/reference/generated/numpy.meshgrid.html) <br>\n",
        "- What I think is a [more helpful resource](https://www.geeksforgeeks.org/numpy-meshgrid-function/)"
      ]
    },
    {
      "cell_type": "code",
      "metadata": {
        "colab": {
          "base_uri": "https://localhost:8080/"
        },
        "id": "63tmnJQvJueP",
        "outputId": "7af05a9a-7508-4514-a31e-093038398269"
      },
      "source": [
        "# setting x and y coordinate min/max values \n",
        "a = np.arange(-5, 5, 0.01)\n",
        "b = np.arange(-5, 5, 0.01)\n",
        "xx, yy = np.meshgrid(a, b)\n",
        "\n",
        "print(f'x coordinates: \\n {xx}')\n",
        "print(f'x coords shape: {xx.shape} \\n')\n",
        "print(f'y coordinates: \\n {yy}')\n",
        "print(f'y coords shape: {yy.shape}')"
      ],
      "execution_count": 123,
      "outputs": [
        {
          "output_type": "stream",
          "text": [
            "x coordinates: \n",
            " [[-5.   -4.99 -4.98 ...  4.97  4.98  4.99]\n",
            " [-5.   -4.99 -4.98 ...  4.97  4.98  4.99]\n",
            " [-5.   -4.99 -4.98 ...  4.97  4.98  4.99]\n",
            " ...\n",
            " [-5.   -4.99 -4.98 ...  4.97  4.98  4.99]\n",
            " [-5.   -4.99 -4.98 ...  4.97  4.98  4.99]\n",
            " [-5.   -4.99 -4.98 ...  4.97  4.98  4.99]]\n",
            "x coords shape: (1000, 1000) \n",
            "\n",
            "y coordinates: \n",
            " [[-5.   -5.   -5.   ... -5.   -5.   -5.  ]\n",
            " [-4.99 -4.99 -4.99 ... -4.99 -4.99 -4.99]\n",
            " [-4.98 -4.98 -4.98 ... -4.98 -4.98 -4.98]\n",
            " ...\n",
            " [ 4.97  4.97  4.97 ...  4.97  4.97  4.97]\n",
            " [ 4.98  4.98  4.98 ...  4.98  4.98  4.98]\n",
            " [ 4.99  4.99  4.99 ...  4.99  4.99  4.99]]\n",
            "y coords shape: (1000, 1000)\n"
          ],
          "name": "stdout"
        }
      ]
    },
    {
      "cell_type": "markdown",
      "metadata": {
        "id": "emtVgpC8KJx0"
      },
      "source": [
        "#### `Contourf`\n",
        "\n",
        "[Documentation](https://matplotlib.org/3.3.3/api/_as_gen/matplotlib.pyplot.contourf.html)\n",
        "\n",
        "Important Parameters\n",
        "- `X`: x coordinate array (meshgrid)\n",
        "- `Y`: y coordinate array (meshgrid)\n",
        "- `Z`: \"height\" array, essentially how you want to divide/color different areas"
      ]
    },
    {
      "cell_type": "markdown",
      "metadata": {
        "id": "eBBrSY8JLodF"
      },
      "source": [
        "#### What is `Z`?\n",
        "\n",
        "Remember that `z` tells us how we want to color our graph. It identifies the different areas. In our case, we want to know where the decision boundary is, so we want to color based on our binary predictions. Therefore, we need to predict for every part of the graph. \n",
        "\n",
        "To predict for every part of the graph, we need to look back at our coordinates `xx` and `yy` from meshgrid. `xx` and `yy` give us coordinates for our graph, so using our classifier (logistic regression `clf`), we can predict 0/1 for each coordinate pair. To create coordinate pairs:\n",
        "1. Turn `xx` and `yy` into 1D arrays using `ravel()`\n",
        "2. Concatenate them along columns using `np.c_`. This is kind of like creating 2 features.\n",
        "3. Pass these two \"predictors\" (which are just our `xx` and `yy` coordinates from meshgrid) through our classifier. \n",
        "4. Reshape to the original size of the graph using `reshape`"
      ]
    },
    {
      "cell_type": "code",
      "metadata": {
        "id": "aCVTsdgK6hM_",
        "colab": {
          "base_uri": "https://localhost:8080/"
        },
        "outputId": "ea4543ea-1575-4c36-dac7-dc541d92b506"
      },
      "source": [
        "# making predictions from logistic regression\n",
        "# these are our z values because they indicate class\n",
        "# ravel: flattens to contiguous 1D array\n",
        "# c_: concatenates columns\n",
        "z = clf.predict(np.c_[xx.ravel(), yy.ravel()])\n",
        "print(f'xx.ravel(): {xx.ravel()}')\n",
        "print(f'xx.ravel() shape: {xx.ravel().shape} \\n')\n",
        "\n",
        "print(f'yy.ravel(): {yy.ravel()}')\n",
        "print(f'xx.ravel() shape: {yy.ravel().shape} \\n')\n",
        "\n",
        "print(f'z shape before reshaping: {z.shape}')\n",
        "z = z.reshape(xx.shape)\n",
        "print(f'z shape after reshaping: {z.shape}')"
      ],
      "execution_count": 136,
      "outputs": [
        {
          "output_type": "stream",
          "text": [
            "xx.ravel(): [-5.   -4.99 -4.98 ...  4.97  4.98  4.99]\n",
            "xx.ravel() shape: (1000000,) \n",
            "\n",
            "yy.ravel(): [-5.   -5.   -5.   ...  4.99  4.99  4.99]\n",
            "xx.ravel() shape: (1000000,) \n",
            "\n",
            "z shape before reshaping: (1000000,)\n",
            "z shape after reshaping: (1000, 1000)\n"
          ],
          "name": "stdout"
        }
      ]
    },
    {
      "cell_type": "markdown",
      "metadata": {
        "id": "hluTNJLqOO7z"
      },
      "source": [
        "#### Creating Contour Plot"
      ]
    },
    {
      "cell_type": "code",
      "metadata": {
        "colab": {
          "base_uri": "https://localhost:8080/",
          "height": 426
        },
        "id": "aoTGb5ytIzzs",
        "outputId": "3429c7a5-2379-445b-ff5e-df1fd9841457"
      },
      "source": [
        "# indexing for labeling (data-dependent)\n",
        "# essentially need to know which observations are y = 0 and y = 1 for the legend\n",
        "f0 = X[100:, 0]           # feature 0\n",
        "f1 = X[100:, 1]           # feature 1\n",
        "ys = y[100:]              # y/target\n",
        "t0 = np.where(ys == 0)    # indicator for y = 0\n",
        "t1 = np.where(ys == 1)    # indicator for y = 1\n",
        "\n",
        "fig, axs = plt.subplots(figsize = (8, 6))\n",
        "plot = axs.contourf(xx, yy, z, cmap = \"bwr\", alpha = .3)\n",
        "axs.scatter(f0[t1], f1[t1], s = 80, c = 'r', label = 'target = 1')\n",
        "axs.scatter(f0[t0], f1[t0], s = 80, c = 'b', label = 'target = 0')\n",
        "axs.set_xlabel('feature 0', fontsize = 13)\n",
        "axs.set_ylabel('feature 1', fontsize = 13)\n",
        "axs.set_title('Decision Boundary: Logistic Regression', fontsize = 16)\n",
        "axs.legend(fontsize = 12)"
      ],
      "execution_count": 141,
      "outputs": [
        {
          "output_type": "execute_result",
          "data": {
            "text/plain": [
              "<matplotlib.legend.Legend at 0x7fe811d663c8>"
            ]
          },
          "metadata": {
            "tags": []
          },
          "execution_count": 141
        },
        {
          "output_type": "display_data",
          "data": {
            "image/png": "[encoded data removed]",
            "text/plain": [
              "<Figure size 576x432 with 1 Axes>"
            ]
          },
          "metadata": {
            "tags": [],
            "needs_background": "light"
          }
        }
      ]
    },
    {
      "cell_type": "code",
      "metadata": {
        "id": "Zbq_tTAuLZsW"
      },
      "source": [
        ""
      ],
      "execution_count": null,
      "outputs": []
    }
  ]
}