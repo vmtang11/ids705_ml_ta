{
  "nbformat": 4,
  "nbformat_minor": 0,
  "metadata": {
    "colab": {
      "name": "session2.ipynb",
      "provenance": [],
      "collapsed_sections": [],
      "include_colab_link": true
    },
    "kernelspec": {
      "name": "python3",
      "display_name": "Python 3"
    }
  },
  "cells": [
    {
      "cell_type": "markdown",
      "metadata": {
        "id": "view-in-github",
        "colab_type": "text"
      },
      "source": [
        "<a href=\"https://colab.research.google.com/github/vmtang11/ids705_ml_ta/blob/main/session2.ipynb\" target=\"_parent\"><img src=\"https://colab.research.google.com/assets/colab-badge.svg\" alt=\"Open In Colab\"/></a>"
      ]
    },
    {
      "cell_type": "markdown",
      "metadata": {
        "id": "FYbKtA657gBJ"
      },
      "source": [
        "# IDS705 Machine Learning: Session 2\n",
        "\n",
        "## Agenda\n",
        "\n",
        "### Numpy\n",
        "\n",
        "- Array vs Matrix\n",
        "- Shape mismatch error for dot product\n",
        "- Other useful functions\n",
        "\n",
        "### Linear Algebra to Code\n",
        "- Taking matrix representations and turning them into code\n",
        "- Matrix math\n",
        "- Example: linear regression (weights and error)\n",
        "\n",
        "If you need a refresher, here's a bit about linear regression using matrices:\n",
        "https://www.stat.purdue.edu/~boli/stat512/lectures/topic3.pdf"
      ]
    },
    {
      "cell_type": "markdown",
      "metadata": {
        "id": "zDXCEToTj-KQ"
      },
      "source": [
        "# Numpy\n",
        "- resource: https://cs231n.github.io/python-numpy-tutorial/#numpy"
      ]
    },
    {
      "cell_type": "code",
      "metadata": {
        "id": "LDkR5YDCpjPQ"
      },
      "source": [
        "import numpy as np"
      ],
      "execution_count": null,
      "outputs": []
    },
    {
      "cell_type": "markdown",
      "metadata": {
        "id": "brUdzXvIpK9O"
      },
      "source": [
        "## Array vs Matrix\n",
        "\n",
        "- np.array: nD, input as numbers\n",
        "  - values separated by `comma` and enclosed by `[]` for each dimension <br>(in the order of x-axis (innermost square brackets), y-axis (next square brackets), z-axis (so-on), etc)\n",
        "- np.matrix: 2D only, input as string\n",
        "  - values separated by `space` within each row and separated by `;` for different columns\n",
        "\n",
        "__2D matrix__:\n"
      ]
    },
    {
      "cell_type": "code",
      "metadata": {
        "colab": {
          "base_uri": "https://localhost:8080/"
        },
        "id": "UCIuC3qOwrkw",
        "outputId": "32aa1ffc-3b25-41c2-af56-148e5f9e6b68"
      },
      "source": [
        "A = np.array([[1, 2, 3],[4, 5, 6],[7, 8, 9]])\n",
        "B = np.matrix('1 2 3; 4 5 6; 7 8 9')\n",
        "print(f\"A is an {type(A)} object:\\n{A}\")\n",
        "print(f\"B is a {type(B)} object:\\n{B}\")"
      ],
      "execution_count": null,
      "outputs": [
        {
          "output_type": "stream",
          "text": [
            "A is an <class 'numpy.ndarray'> object:\n",
            "[[1 2 3]\n",
            " [4 5 6]\n",
            " [7 8 9]]\n",
            "B is a <class 'numpy.matrix'> object:\n",
            "[[1 2 3]\n",
            " [4 5 6]\n",
            " [7 8 9]]\n"
          ],
          "name": "stdout"
        }
      ]
    },
    {
      "cell_type": "markdown",
      "metadata": {
        "id": "h6-VWNy5z1iY"
      },
      "source": [
        "__row vector__:\n",
        "- np.array: 1D array by default shown as row vector\n",
        "- np.matrix: __not possible__,  still show as 2D matrix with only 1 row"
      ]
    },
    {
      "cell_type": "code",
      "metadata": {
        "colab": {
          "base_uri": "https://localhost:8080/"
        },
        "id": "fRhiuZl6pJOs",
        "outputId": "67d621a5-3653-45ba-d8f3-70a92a1d2fdc"
      },
      "source": [
        "c = np.array([1, 2, 3]) # (3, ) != (3, 1)\n",
        "d = np.matrix('1 2 3') # (1, 3)\n",
        "print(f\"c is a 1D row vector:\\n{c}\")\n",
        "print(f\"d is a 2D matrix with only 1 row:\\n{d}\")"
      ],
      "execution_count": null,
      "outputs": [
        {
          "output_type": "stream",
          "text": [
            "c is a 1D row vector:\n",
            "[1 2 3]\n",
            "d is a 2D matrix with only 1 row:\n",
            "[[1 2 3]]\n"
          ],
          "name": "stdout"
        }
      ]
    },
    {
      "cell_type": "markdown",
      "metadata": {
        "id": "VACMBwnGre9j"
      },
      "source": [
        "__column vector__:\n",
        "- np.array: need to increase dimension from `(n, )` to `(n, 1)`\n",
        "  - both `None` and `np.newaxis` adds additional dimension\n",
        "  - `[:, None]` or `[:, np.newaxis]` adds behind\n",
        "  - `[None]` or `[np.newaxis]` adds in front, but can use `.T` to transpose\n",
        "  - adding outer `[]` also adds new dimension in front\n",
        "\n",
        "- np.matrix: use `;` as separator"
      ]
    },
    {
      "cell_type": "code",
      "metadata": {
        "colab": {
          "base_uri": "https://localhost:8080/"
        },
        "id": "h3XyN9gprbdy",
        "outputId": "efcb3cca-413e-42fd-9b11-8869c117ea1f"
      },
      "source": [
        "w = np.array([1, 2, 3])[:, None]\n",
        "x = np.array([1, 2, 3])[np.newaxis].T\n",
        "y = np.array([[1, 2, 3]]).T\n",
        "z = np.matrix('1; 2; 3')\n",
        "print(f\"w = \\n{w}\")\n",
        "print(f\"x = \\n{x}\")\n",
        "print(f\"y = \\n{y}\")\n",
        "print(f\"z = \\n{z}\")"
      ],
      "execution_count": null,
      "outputs": [
        {
          "output_type": "stream",
          "text": [
            "w = \n",
            "[[1]\n",
            " [2]\n",
            " [3]]\n",
            "x = \n",
            "[[1]\n",
            " [2]\n",
            " [3]]\n",
            "y = \n",
            "[[1]\n",
            " [2]\n",
            " [3]]\n",
            "z = \n",
            "[[1]\n",
            " [2]\n",
            " [3]]\n"
          ],
          "name": "stdout"
        }
      ]
    },
    {
      "cell_type": "markdown",
      "metadata": {
        "id": "3ZPnB7Qi59ce"
      },
      "source": [
        "## Shape Mismatch\n",
        "When calculating the dot product, the dimensions of the 2 arrays/matrices have to match, otherwise there will be shape mismatch error."
      ]
    },
    {
      "cell_type": "code",
      "metadata": {
        "colab": {
          "base_uri": "https://localhost:8080/"
        },
        "id": "d1iEG4j66llx",
        "outputId": "c4edcd6a-f741-4648-f0c9-78f801696c9d"
      },
      "source": [
        "print(f\"A is a {A.shape} matrix\")\n",
        "print(f\"c is a {c.shape} vector\")\n",
        "print(f\"w is a {w.shape} matrix\")"
      ],
      "execution_count": null,
      "outputs": [
        {
          "output_type": "stream",
          "text": [
            "A is a (3, 3) matrix\n",
            "c is a (3,) vector\n",
            "w is a (3, 1) matrix\n"
          ],
          "name": "stdout"
        }
      ]
    },
    {
      "cell_type": "code",
      "metadata": {
        "colab": {
          "base_uri": "https://localhost:8080/"
        },
        "id": "EC8HrTLR7wED",
        "outputId": "ea4c04e9-edbf-4eec-83a1-877591e77b20"
      },
      "source": [
        "ans1 = A.dot(c)\n",
        "ans2 = A.dot(w)\n",
        "print(f\"A dot c gives a {ans1.shape} vector = {ans1}\")\n",
        "print(f\"A dot w gives a {ans2.shape} matrix = \\n{ans2}\")"
      ],
      "execution_count": null,
      "outputs": [
        {
          "output_type": "stream",
          "text": [
            "A dot c gives a (3,) vector = [14 32 50]\n",
            "A dot w gives a (3, 1) matrix = \n",
            "[[14]\n",
            " [32]\n",
            " [50]]\n"
          ],
          "name": "stdout"
        }
      ]
    },
    {
      "cell_type": "code",
      "metadata": {
        "colab": {
          "base_uri": "https://localhost:8080/",
          "height": 215
        },
        "id": "jLsiqIDc9Wg1",
        "outputId": "bf94ba0e-5e88-476f-a0c0-d9be362f1c28"
      },
      "source": [
        "ans3 = A.dot(c.T) # transposing (3,) is still (3,)\n",
        "print(f\"A dot c.T gives a {ans3.shape} vector = {ans3}\")\n",
        "ans4 = A.dot(w.T) # shape mismatch"
      ],
      "execution_count": null,
      "outputs": [
        {
          "output_type": "stream",
          "text": [
            "A dot c.T gives a (3,) vector = [14 32 50]\n"
          ],
          "name": "stdout"
        },
        {
          "output_type": "error",
          "ename": "ValueError",
          "evalue": "ignored",
          "traceback": [
            "\u001b[0;31m---------------------------------------------------------------------------\u001b[0m",
            "\u001b[0;31mValueError\u001b[0m                                Traceback (most recent call last)",
            "\u001b[0;32m<ipython-input-95-c5a64910d43c>\u001b[0m in \u001b[0;36m<module>\u001b[0;34m()\u001b[0m\n\u001b[1;32m      1\u001b[0m \u001b[0mans3\u001b[0m \u001b[0;34m=\u001b[0m \u001b[0mA\u001b[0m\u001b[0;34m.\u001b[0m\u001b[0mdot\u001b[0m\u001b[0;34m(\u001b[0m\u001b[0mc\u001b[0m\u001b[0;34m.\u001b[0m\u001b[0mT\u001b[0m\u001b[0;34m)\u001b[0m \u001b[0;31m# transposing (3,) is still (3,)\u001b[0m\u001b[0;34m\u001b[0m\u001b[0;34m\u001b[0m\u001b[0m\n\u001b[1;32m      2\u001b[0m \u001b[0mprint\u001b[0m\u001b[0;34m(\u001b[0m\u001b[0;34mf\"A dot c.T gives a {ans3.shape} vector = {ans3}\"\u001b[0m\u001b[0;34m)\u001b[0m\u001b[0;34m\u001b[0m\u001b[0;34m\u001b[0m\u001b[0m\n\u001b[0;32m----> 3\u001b[0;31m \u001b[0mans4\u001b[0m \u001b[0;34m=\u001b[0m \u001b[0mA\u001b[0m\u001b[0;34m.\u001b[0m\u001b[0mdot\u001b[0m\u001b[0;34m(\u001b[0m\u001b[0mw\u001b[0m\u001b[0;34m.\u001b[0m\u001b[0mT\u001b[0m\u001b[0;34m)\u001b[0m \u001b[0;31m# shape mismatch\u001b[0m\u001b[0;34m\u001b[0m\u001b[0;34m\u001b[0m\u001b[0m\n\u001b[0m",
            "\u001b[0;31mValueError\u001b[0m: shapes (3,3) and (1,3) not aligned: 3 (dim 1) != 1 (dim 0)"
          ]
        }
      ]
    },
    {
      "cell_type": "markdown",
      "metadata": {
        "id": "6Wa7pRa9-E5G"
      },
      "source": [
        "## Some useful numpy functions\n",
        "\n",
        "__array dimension__:\n",
        "- np.squeeze: removes dimensions of size 1 (reverse of adding new dimension with `None` or `np.newaxis`)\n",
        "- np.flatten: change any array into 1D\n",
        "- np.reshape: change to any shape (provided the total number of elements stays the same)"
      ]
    },
    {
      "cell_type": "code",
      "metadata": {
        "colab": {
          "base_uri": "https://localhost:8080/"
        },
        "id": "Y1g0Lydw_WYa",
        "outputId": "a7c1ded5-f117-4a44-c90b-fc42495f0da5"
      },
      "source": [
        "w_squeeze = w.squeeze()\n",
        "print(f\"w is back to a {w_squeeze.shape} vector = {w_squeeze}\")\n",
        "A_flatten = A.flatten()\n",
        "print(f\"A is now to a {A_flatten.shape} vector = {A_flatten}\")"
      ],
      "execution_count": null,
      "outputs": [
        {
          "output_type": "stream",
          "text": [
            "w is back to a (3,) vector = [1 2 3]\n",
            "A is now to a (9,) vector = [1 2 3 4 5 6 7 8 9]\n"
          ],
          "name": "stdout"
        }
      ]
    },
    {
      "cell_type": "code",
      "metadata": {
        "colab": {
          "base_uri": "https://localhost:8080/"
        },
        "id": "nC2zEOmyCoUT",
        "outputId": "e1f2385f-ba8d-4ae1-cd29-dd0a7d94e314"
      },
      "source": [
        "M = np.random.randint(0,10,(3,8))\n",
        "print(f\"M is a {M.shape} matrix =\\n{M}\")\n",
        "M_reshape = M.reshape(4, 6)\n",
        "print(f\"M is reshaped into a {M_reshape.shape} matrix =\\n{M_reshape}\")"
      ],
      "execution_count": null,
      "outputs": [
        {
          "output_type": "stream",
          "text": [
            "M is a (3, 8) matrix =\n",
            "[[0 3 7 3 7 6 1 9]\n",
            " [6 4 9 0 5 2 3 4]\n",
            " [8 3 1 3 5 6 0 7]]\n",
            "M is reshaped into a (4, 6) matrix =\n",
            "[[0 3 7 3 7 6]\n",
            " [1 9 6 4 9 0]\n",
            " [5 2 3 4 8 3]\n",
            " [1 3 5 6 0 7]]\n"
          ],
          "name": "stdout"
        }
      ]
    },
    {
      "cell_type": "markdown",
      "metadata": {
        "id": "YcG1YlzxBFWm"
      },
      "source": [
        "- np.c_: combines 1D column vectors horizontally (with same number of rows)\n",
        "- np.unique: returns unique elements in an array/matrix\n",
        "- np.argsort: return indices that would sort the array\n",
        "- np.argmax: return indices of max value, along axis"
      ]
    },
    {
      "cell_type": "code",
      "metadata": {
        "colab": {
          "base_uri": "https://localhost:8080/"
        },
        "id": "CHwHiTduEIms",
        "outputId": "bb43c66b-16d4-4982-f835-6db8e21111c2"
      },
      "source": [
        "np.c_[c,ans1]"
      ],
      "execution_count": null,
      "outputs": [
        {
          "output_type": "execute_result",
          "data": {
            "text/plain": [
              "array([[ 1, 14],\n",
              "       [ 2, 32],\n",
              "       [ 3, 50]])"
            ]
          },
          "metadata": {
            "tags": []
          },
          "execution_count": 118
        }
      ]
    },
    {
      "cell_type": "code",
      "metadata": {
        "colab": {
          "base_uri": "https://localhost:8080/"
        },
        "id": "Y6xCVTC8E8VV",
        "outputId": "96f84943-5442-4f39-bb99-3f086e3232f9"
      },
      "source": [
        "np.unique(M)"
      ],
      "execution_count": null,
      "outputs": [
        {
          "output_type": "execute_result",
          "data": {
            "text/plain": [
              "array([0, 1, 2, 3, 4, 5, 6, 7, 8, 9])"
            ]
          },
          "metadata": {
            "tags": []
          },
          "execution_count": 119
        }
      ]
    },
    {
      "cell_type": "code",
      "metadata": {
        "colab": {
          "base_uri": "https://localhost:8080/"
        },
        "id": "ws5VFcdyFDsS",
        "outputId": "d69ade0d-1e76-46df-97ec-971cccec4fab"
      },
      "source": [
        "M0 = M[0]\n",
        "np.argsort(M0)"
      ],
      "execution_count": null,
      "outputs": [
        {
          "output_type": "execute_result",
          "data": {
            "text/plain": [
              "array([0, 6, 1, 3, 5, 2, 4, 7])"
            ]
          },
          "metadata": {
            "tags": []
          },
          "execution_count": 126
        }
      ]
    },
    {
      "cell_type": "code",
      "metadata": {
        "colab": {
          "base_uri": "https://localhost:8080/"
        },
        "id": "NfIw17CDF3p6",
        "outputId": "ef55d5a8-0aaf-48af-c572-614a25031ea5"
      },
      "source": [
        "M0[np.argsort(M0)]"
      ],
      "execution_count": null,
      "outputs": [
        {
          "output_type": "execute_result",
          "data": {
            "text/plain": [
              "array([0, 1, 3, 3, 6, 7, 7, 9])"
            ]
          },
          "metadata": {
            "tags": []
          },
          "execution_count": 127
        }
      ]
    },
    {
      "cell_type": "code",
      "metadata": {
        "colab": {
          "base_uri": "https://localhost:8080/"
        },
        "id": "z1_mpFzqF5pi",
        "outputId": "3f5dc236-a2e3-459a-b05b-421f5171946a"
      },
      "source": [
        "np.argmax(M, axis=0)"
      ],
      "execution_count": null,
      "outputs": [
        {
          "output_type": "execute_result",
          "data": {
            "text/plain": [
              "array([2, 1, 1, 0, 0, 0, 1, 0])"
            ]
          },
          "metadata": {
            "tags": []
          },
          "execution_count": 129
        }
      ]
    },
    {
      "cell_type": "markdown",
      "metadata": {
        "id": "qp7SvfmwFRD6"
      },
      "source": [
        "# Linear Algebra to Code\n",
        "- Taking matrix representations and turning them into code\n",
        "- Matrix math\n",
        "\n",
        "## Example: Linear Regression\n",
        "\n",
        "### Equation\n",
        "\n",
        "$\\hat{y} = Xw + \\epsilon$ <br>\n",
        "$\\hat{y} = \\hat{f}(x) = \\sum_{i=0}^{p}w_ix_i$ <br>\n",
        "$\\hat{f}(x_n) = w^Tx_n$\n",
        "\n",
        "where:\n",
        "- $\\hat{y}$ = predicted $y$ values\n",
        "- $X$ = data\n",
        "- $w$ = weights\n",
        "- $\\epsilon$ = error\n",
        "- $p$ = number of predictors\n",
        "\n",
        "### Weights\n",
        "\n",
        "To find the weights ($w$): <br>\n",
        "$w = (X'X)^{-1}X'Y$\n",
        "\n",
        "### Error\n",
        "\n",
        "To find the error, we'll use mean squared error: <br>\n",
        "$\n",
        "\\begin{align}\n",
        "E(\\hat{f}) = \\frac{1}{N} \\sum_{n=1}^N \\left( \\hat{f}(x_n) - y_n \\right) ^2\n",
        "\\end{align}\n",
        "$\n",
        "\n",
        "where:\n",
        "- $N$ = number of data points\n",
        "- $\\hat{f}(x_n)$ = predicted $y$ value\n",
        "- $y_n$ = actual $y$ value\n",
        "\n"
      ]
    },
    {
      "cell_type": "markdown",
      "metadata": {
        "id": "DsburuKK1ulT"
      },
      "source": [
        "## Creating Data\n",
        "\n",
        "To use this example, let's create some random data. We can do so using numpy random normal. We need data for x (features/predictors) and y (target)."
      ]
    },
    {
      "cell_type": "code",
      "metadata": {
        "colab": {
          "base_uri": "https://localhost:8080/"
        },
        "id": "fYm58LWd18oH",
        "outputId": "97d15279-ca25-4b1d-9cf4-42b58ec3e736"
      },
      "source": [
        "import numpy as np\n",
        "import random\n",
        "\n",
        "# set seed for reproducibility\n",
        "random.seed(11)\n",
        "\n",
        "# mean = 0, std = 1\n",
        "x_train = np.random.normal(0, 1, size = (100,3))\n",
        "\n",
        "# show first 10 rows as an example\n",
        "x_train[0:10,:]"
      ],
      "execution_count": null,
      "outputs": [
        {
          "output_type": "execute_result",
          "data": {
            "text/plain": [
              "array([[-2.60242094,  0.75172246,  0.34385265],\n",
              "       [ 0.56659061,  0.08106306,  1.6870919 ],\n",
              "       [-0.22828562,  0.22043614, -0.85424999],\n",
              "       [-0.435791  ,  0.13191385,  1.60922772],\n",
              "       [-1.09291525, -1.10679567, -0.84150506],\n",
              "       [ 0.21466988, -0.81447283, -0.88474572],\n",
              "       [ 1.51170187,  1.92859283, -1.02362354],\n",
              "       [-0.78845682, -1.08029696,  0.33111453],\n",
              "       [ 0.37510378, -0.0590894 , -0.67091843],\n",
              "       [ 0.84145002, -0.72154762,  0.53874882]])"
            ]
          },
          "metadata": {
            "tags": []
          },
          "execution_count": 2
        }
      ]
    },
    {
      "cell_type": "code",
      "metadata": {
        "colab": {
          "base_uri": "https://localhost:8080/"
        },
        "id": "ksemHcs52oKR",
        "outputId": "7eb9c2fe-2a02-4d6b-8f75-4941d0c9934b"
      },
      "source": [
        "# create y with coefficients 2, 3, and 4 and some noise so we know what coefficients to expect for w\n",
        "noise = np.random.normal(0, 1, 100)\n",
        "y_train = 2 * x_train[:,0] + 3 * x_train[:,1] + 4 * x_train[:,2] + noise\n",
        "\n",
        "# print y shape to confirm and first 10 as an example\n",
        "print(f'y shape: {y_train.shape}')\n",
        "y_train[:10]"
      ],
      "execution_count": null,
      "outputs": [
        {
          "output_type": "stream",
          "text": [
            "y shape: (100,)\n"
          ],
          "name": "stdout"
        },
        {
          "output_type": "execute_result",
          "data": {
            "text/plain": [
              "array([-1.62978411,  7.26338816, -3.98767757,  5.7200045 , -9.30061642,\n",
              "       -3.57190111,  4.67231352, -4.78229333, -1.93831737,  1.53534698])"
            ]
          },
          "metadata": {
            "tags": []
          },
          "execution_count": 10
        }
      ]
    },
    {
      "cell_type": "markdown",
      "metadata": {
        "id": "M6hgozlh1mK5"
      },
      "source": [
        "## Finding Weights\n",
        "\n",
        "Now that we have some data to work with, let's use the formula below to calculate the weights. Because we made our own data, we know to expect the coefficients $w$ to be 2, 3, and 4.\n",
        "\n",
        "$w = (X'X)^{-1}X'Y$\n",
        "\n",
        "Because this has a few parts to it, we can break it down into simpler components. <br>\n",
        "1. Calculate $X'X$\n",
        "2. Take the inverse\n",
        "3. Multiply that by $X'$\n",
        "4. Multiply that by $Y$"
      ]
    },
    {
      "cell_type": "code",
      "metadata": {
        "colab": {
          "base_uri": "https://localhost:8080/"
        },
        "id": "KF9sfso86qJB",
        "outputId": "0ef195a1-0c9f-4b9b-cee8-20bfe12364ce"
      },
      "source": [
        "part1 = np.dot(x_train.T, x_train)\n",
        "part2 = np.linalg.inv(part1)\n",
        "part3 = np.dot(part2, x_train.T)\n",
        "part4 = np.dot(part3, y_train)\n",
        "part4"
      ],
      "execution_count": null,
      "outputs": [
        {
          "output_type": "execute_result",
          "data": {
            "text/plain": [
              "array([1.98946147, 3.12150315, 3.82625464])"
            ]
          },
          "metadata": {
            "tags": []
          },
          "execution_count": 11
        }
      ]
    },
    {
      "cell_type": "markdown",
      "metadata": {
        "id": "L3aRtsET6MDV"
      },
      "source": [
        "As expected, our coefficients are about 2, 3, and 4. The reason they're slightly off is because we added some random noise."
      ]
    },
    {
      "cell_type": "markdown",
      "metadata": {
        "id": "dMv3eP6l5mnx"
      },
      "source": [
        "## Calculating Error\n",
        "\n",
        "Now that we have our weights, we can calculate the error, we'll use mean squared error: <br>\n",
        "$\n",
        "\\begin{align}\n",
        "E(\\hat{f}) = \\frac{1}{N} \\sum_{n=1}^N \\left( \\hat{f}(x_n) - y_n \\right) ^2\n",
        "\\end{align}\n",
        "$\n",
        "\n",
        "where:\n",
        "- $N$ = number of data points\n",
        "- $\\hat{f}(x_n)$ = predicted $y$ value\n",
        "- $y_n$ = actual $y$ value\n",
        "\n",
        "Again, we can break this down into a few parts:\n",
        "1. `yhat`: Calculate $\\hat{f}(x_n)$\n",
        "2. `diff`: Subtract the true $y$ value ($y_n$) from the predicted $y$ value ($\\hat{y}$)\n",
        "3. `diff2`: Square the difference\n",
        "4. `ssd`: Sum all the squares\n",
        "5. `e`: Divide by $N$, the number of data points"
      ]
    },
    {
      "cell_type": "code",
      "metadata": {
        "colab": {
          "base_uri": "https://localhost:8080/"
        },
        "id": "fB8y7h9w4hDg",
        "outputId": "07fef6a3-1ace-43c6-f395-89fd6dc13f34"
      },
      "source": [
        "# Part 1: Calculating yhat\n",
        "# print shape and some examples to make sure it's what you expect\n",
        "yhat = np.dot(x_train, w)\n",
        "print(f'yhat shape: {yhat.shape}')\n",
        "yhat[:10]"
      ],
      "execution_count": null,
      "outputs": [
        {
          "output_type": "stream",
          "text": [
            "yhat shape: (100,)\n"
          ],
          "name": "stdout"
        },
        {
          "output_type": "execute_result",
          "data": {
            "text/plain": [
              "array([-1.57426391,  8.12473802, -3.21226277,  5.96107045, -8.87223775,\n",
              "       -5.55306158,  4.71468805, -3.49334642, -2.11073434,  1.67325248])"
            ]
          },
          "metadata": {
            "tags": []
          },
          "execution_count": 14
        }
      ]
    },
    {
      "cell_type": "code",
      "metadata": {
        "colab": {
          "base_uri": "https://localhost:8080/"
        },
        "id": "zow-r4jE7DR9",
        "outputId": "80015f21-af2b-4489-f72f-ea3ff05eed7c"
      },
      "source": [
        "# Part 2: yhat - y\n",
        "diff = yhat - y_train\n",
        "print(f'diff shape: {diff.shape}')\n",
        "diff[:10]"
      ],
      "execution_count": null,
      "outputs": [
        {
          "output_type": "stream",
          "text": [
            "diff shape: (100,)\n"
          ],
          "name": "stdout"
        },
        {
          "output_type": "execute_result",
          "data": {
            "text/plain": [
              "array([ 0.0555202 ,  0.86134986,  0.7754148 ,  0.24106595,  0.42837867,\n",
              "       -1.98116047,  0.04237453,  1.28894691, -0.17241696,  0.1379055 ])"
            ]
          },
          "metadata": {
            "tags": []
          },
          "execution_count": 15
        }
      ]
    },
    {
      "cell_type": "code",
      "metadata": {
        "colab": {
          "base_uri": "https://localhost:8080/"
        },
        "id": "tGr7bi2a7pLc",
        "outputId": "8be6c05c-5a0b-4432-8d6d-4d89345a58e1"
      },
      "source": [
        "# Part 3: Square the differences\n",
        "diff2 = diff**2\n",
        "print(f'diff squared shape: {diff2.shape}')\n",
        "diff2[:10]"
      ],
      "execution_count": null,
      "outputs": [
        {
          "output_type": "stream",
          "text": [
            "diff squared shape: (100,)\n"
          ],
          "name": "stdout"
        },
        {
          "output_type": "execute_result",
          "data": {
            "text/plain": [
              "array([3.08249254e-03, 7.41923576e-01, 6.01268115e-01, 5.81127943e-02,\n",
              "       1.83508283e-01, 3.92499680e+00, 1.79560049e-03, 1.66138414e+00,\n",
              "       2.97276094e-02, 1.90179260e-02])"
            ]
          },
          "metadata": {
            "tags": []
          },
          "execution_count": 16
        }
      ]
    },
    {
      "cell_type": "code",
      "metadata": {
        "colab": {
          "base_uri": "https://localhost:8080/"
        },
        "id": "YJQowfwJ7yS0",
        "outputId": "8423957f-7f7e-4d2c-ec0a-de66560e3ed8"
      },
      "source": [
        "# Part 4: Sum all the squared differences\n",
        "ssd = np.sum(diff2)\n",
        "print(f'ssd shape: {ssd.shape}')\n",
        "ssd"
      ],
      "execution_count": null,
      "outputs": [
        {
          "output_type": "stream",
          "text": [
            "ssd shape: ()\n"
          ],
          "name": "stdout"
        },
        {
          "output_type": "execute_result",
          "data": {
            "text/plain": [
              "80.42841192372006"
            ]
          },
          "metadata": {
            "tags": []
          },
          "execution_count": 18
        }
      ]
    },
    {
      "cell_type": "code",
      "metadata": {
        "colab": {
          "base_uri": "https://localhost:8080/"
        },
        "id": "mUPasctz764L",
        "outputId": "661dc77e-c099-4dfc-c764-f692c6797b00"
      },
      "source": [
        "# Part 5: Divide by N\n",
        "e = ssd/y_train.shape\n",
        "e"
      ],
      "execution_count": null,
      "outputs": [
        {
          "output_type": "execute_result",
          "data": {
            "text/plain": [
              "array([0.80428412])"
            ]
          },
          "metadata": {
            "tags": []
          },
          "execution_count": 20
        }
      ]
    },
    {
      "cell_type": "markdown",
      "metadata": {
        "id": "Q1C4INgz8cIU"
      },
      "source": [
        "It's often easier to deal with math and matrices in parts, especially with longer calculations. It also allows you to look at it piece by piece to debug and isolate mistakes. However, you could also easily combine it into a few steps that still make the process clear:"
      ]
    },
    {
      "cell_type": "code",
      "metadata": {
        "colab": {
          "base_uri": "https://localhost:8080/"
        },
        "id": "3nAZ0aqf8C6X",
        "outputId": "a991bb37-45a8-48c0-9ab6-bb4621c24780"
      },
      "source": [
        "# Putting it all together\n",
        "yhat = np.dot(x_train, w)\n",
        "ssd = np.sum((yhat - y_train)**2)\n",
        "e = ssd/y_train.shape\n",
        "e"
      ],
      "execution_count": null,
      "outputs": [
        {
          "output_type": "execute_result",
          "data": {
            "text/plain": [
              "array([0.80428412])"
            ]
          },
          "metadata": {
            "tags": []
          },
          "execution_count": 22
        }
      ]
    },
    {
      "cell_type": "markdown",
      "metadata": {
        "id": "bdIMXt6182Db"
      },
      "source": [
        "That's much easier to debug and look at than this:"
      ]
    },
    {
      "cell_type": "code",
      "metadata": {
        "colab": {
          "base_uri": "https://localhost:8080/"
        },
        "id": "gojJmbTU8Wru",
        "outputId": "be9d7ffb-72d0-4be0-ba27-24c2bb6aeb89"
      },
      "source": [
        "e = np.sum((np.dot(x_train, w) - y_train)**2)/y_train.shape\n",
        "e"
      ],
      "execution_count": null,
      "outputs": [
        {
          "output_type": "execute_result",
          "data": {
            "text/plain": [
              "array([0.80428412])"
            ]
          },
          "metadata": {
            "tags": []
          },
          "execution_count": 24
        }
      ]
    },
    {
      "cell_type": "markdown",
      "metadata": {
        "id": "OdD9B0zI9H1W"
      },
      "source": [
        "Also, you will almost certainly use `yhat` again in other calculations, so it's generally best to save that as its own variable anyway. "
      ]
    }
  ]
}